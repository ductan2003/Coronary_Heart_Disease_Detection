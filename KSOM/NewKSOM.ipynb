{
 "cells": [
  {
   "cell_type": "code",
   "execution_count": 1,
   "id": "e61a2f3a-2f30-402c-a478-15efc1a04d13",
   "metadata": {},
   "outputs": [],
   "source": [
    "import numpy as np\n",
    "import matplotlib.pyplot as plt\n",
    "import matplotlib\n",
    "import random, time, sys, math\n",
    "from newSom import NewSOM as SOM"
   ]
  },
  {
   "cell_type": "code",
   "execution_count": 6,
   "id": "55b3190e-fc2f-45d6-ba5a-e51dd9f483ae",
   "metadata": {},
   "outputs": [
    {
     "name": "stdout",
     "output_type": "stream",
     "text": [
      " Average distance = 2.13747\n",
      " Average distance = 1.93037\n",
      " Average distance = 1.90482\n",
      " Average distance = 1.87410\n",
      " Average distance = 1.84989\n",
      " Average distance = 1.81718\n",
      " Average distance = 1.81004\n",
      " Average distance = 1.78097\n",
      " Average distance = 1.78325\n",
      " Average distance = 1.76378\n",
      " Average distance = 1.75389\n",
      " Average distance = 1.73536\n",
      " Average distance = 1.71688\n",
      " Average distance = 1.71048\n",
      " Average distance = 1.71778\n",
      " Average distance = 1.70552\n",
      " Average distance = 1.68351\n",
      " Average distance = 1.66839\n",
      " Average distance = 1.69083\n",
      " Average distance = 1.69814\n",
      "Training done in 44.514413 seconds.\n"
     ]
    }
   ],
   "source": [
    "import numpy as np\n",
    "import os\n",
    "\n",
    "# Specify the directory containing the training `.npy` files\n",
    "train_folder_path = '../LLCS/Dataset3_Official/NumpyData/train/'\n",
    "synthetic_dataset = []\n",
    "\n",
    "# Loop through all `.npy` files in the train folder\n",
    "for filename in os.listdir(train_folder_path):\n",
    "    if filename.endswith('.npy'):\n",
    "        file_path = os.path.join(train_folder_path, filename)\n",
    "        \n",
    "        # Load the data from the .npy file\n",
    "        data = np.load(file_path)\n",
    "        \n",
    "        # Check if the data has the expected shape (30, 30)\n",
    "        if data.shape == (30, 30):\n",
    "            # Flatten and append to the synthetic_dataset\n",
    "            synthetic_dataset.append(data.flatten())\n",
    "        else:\n",
    "            print(f\"Skipping {filename} due to unexpected shape: {data.shape}\")\n",
    "\n",
    "# Convert synthetic_dataset to a NumPy array\n",
    "synthetic_dataset = np.array(synthetic_dataset)\n",
    "\n",
    "# Initialize and create the SOM with appropriate map size\n",
    "som = SOM()\n",
    "som.create(width=13, height=13)\n",
    "\n",
    "# Train the SOM with the synthetic dataset\n",
    "som.fit(synthetic_dataset, random_sampling=0.5, n_iter=20, dist_method='euclidean')"
   ]
  },
  {
   "cell_type": "code",
   "execution_count": null,
   "id": "f7caaf61-847d-472d-a95b-5728fed1b153",
   "metadata": {},
   "outputs": [],
   "source": []
  }
 ],
 "metadata": {
  "kernelspec": {
   "display_name": "Python 3 (ipykernel)",
   "language": "python",
   "name": "python3"
  },
  "language_info": {
   "codemirror_mode": {
    "name": "ipython",
    "version": 3
   },
   "file_extension": ".py",
   "mimetype": "text/x-python",
   "name": "python",
   "nbconvert_exporter": "python",
   "pygments_lexer": "ipython3",
   "version": "3.12.7"
  }
 },
 "nbformat": 4,
 "nbformat_minor": 5
}
