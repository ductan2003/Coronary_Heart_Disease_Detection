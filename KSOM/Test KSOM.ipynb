{
 "cells": [
  {
   "cell_type": "code",
   "execution_count": 1,
   "id": "4946a6f8",
   "metadata": {},
   "outputs": [],
   "source": [
    "import numpy as np\n",
    "import matplotlib.pyplot as plt\n",
    "import matplotlib\n",
    "import random, time, sys, math\n",
    "from newSom import NewSOM"
   ]
  },
  {
   "cell_type": "code",
   "execution_count": 2,
   "id": "e1e6ce3e",
   "metadata": {},
   "outputs": [],
   "source": [
    "# Generate the data\n",
    "dataset = np.random.randint(0, 2, size=(1000, 3)).astype(np.float32) * 2\n",
    "dataset[:500, 1] = np.linspace(0, 2, 500)\n",
    "dataset[:500, 0] = 0\n",
    "dataset += np.random.rand(1000, 3) * .7\n",
    "\n",
    "# # Create the colors for the vectors and scale the values to [0, 1]\n",
    "# colors = dataset.copy()\n",
    "# colors -= np.min(colors)\n",
    "# colors /= np.max(colors)\n",
    "\n",
    "# # Slice the dataset to three axes for 3D plotting\n",
    "# reds = dataset[:, 0]\n",
    "# greens = dataset[:, 1] \n",
    "# blues = dataset[:, 2]\n",
    "\n",
    "# # Plot the data\n",
    "# fig = plt.figure(figsize=(10,10))\n",
    "# ax = fig.add_subplot(1, 1, 1, projection='3d')\n",
    "# ax.scatter(reds, greens, blues, c=colors, alpha=1, s=100, marker='.')\n",
    "# ax.set_xlabel('Red')\n",
    "# ax.set_ylabel('Green')\n",
    "# ax.set_zlabel('Blue')\n",
    "# plt.show()"
   ]
  },
  {
   "cell_type": "code",
   "execution_count": 3,
   "id": "17202473-6d59-45cf-bdbf-232e59b7f695",
   "metadata": {},
   "outputs": [
    {
     "data": {
      "text/plain": [
       "array([[0.28088883, 0.53209066, 2.1163735 ],\n",
       "       [0.08234409, 0.7028801 , 0.54239535],\n",
       "       [0.42214268, 0.34386978, 0.33513176],\n",
       "       ...,\n",
       "       [2.14112   , 0.42774573, 2.2648895 ],\n",
       "       [0.31692562, 0.61349595, 0.19112274],\n",
       "       [2.0554008 , 2.132721  , 2.537452  ]], dtype=float32)"
      ]
     },
     "execution_count": 3,
     "metadata": {},
     "output_type": "execute_result"
    }
   ],
   "source": [
    "dataset"
   ]
  },
  {
   "cell_type": "code",
   "execution_count": 4,
   "id": "7a98b932",
   "metadata": {},
   "outputs": [],
   "source": [
    "s1 = np.array([[1,2,3], [6,2,5]])\n",
    "s2 = np.array([[1,2,3], [6,2,5]])\n",
    "s3 = np.array([[1,2,3], [6,2,5]])\n",
    "\n",
    "shape = (2, 3)\n",
    "random_arrays = np.array([np.random.randint(1, 10, size=shape) for _ in range(500)])\n",
    "dataset = random_arrays"
   ]
  },
  {
   "cell_type": "code",
   "execution_count": 5,
   "id": "9677dc19",
   "metadata": {},
   "outputs": [],
   "source": [
    "som = NewSOM()\n",
    "som.create(width=13, height=13)"
   ]
  },
  {
   "cell_type": "code",
   "execution_count": 6,
   "id": "dd64a653",
   "metadata": {},
   "outputs": [
    {
     "name": "stderr",
     "output_type": "stream",
     "text": [
      "/Users/tannguyen/Coronary_Heart_Disease_Detection/KSOM/newSom.py:189: RuntimeWarning: invalid value encountered in divide\n",
      "  self.nb_weights /= np.max(self.nb_weights)\n"
     ]
    },
    {
     "ename": "ValueError",
     "evalue": "operands could not be broadcast together with shapes (21,42,3) (21,21,3) ",
     "output_type": "error",
     "traceback": [
      "\u001b[0;31m---------------------------------------------------------------------------\u001b[0m",
      "\u001b[0;31mValueError\u001b[0m                                Traceback (most recent call last)",
      "Cell \u001b[0;32mIn[6], line 1\u001b[0m\n\u001b[0;32m----> 1\u001b[0m \u001b[43msom\u001b[49m\u001b[38;5;241;43m.\u001b[39;49m\u001b[43mfit\u001b[49m\u001b[43m(\u001b[49m\u001b[43mdataset\u001b[49m\u001b[43m,\u001b[49m\u001b[43m \u001b[49m\u001b[43mrandom_sampling\u001b[49m\u001b[38;5;241;43m=\u001b[39;49m\u001b[38;5;241;43m0.5\u001b[39;49m\u001b[43m,\u001b[49m\u001b[43m \u001b[49m\u001b[43mn_iter\u001b[49m\u001b[38;5;241;43m=\u001b[39;49m\u001b[38;5;241;43m20\u001b[39;49m\u001b[43m,\u001b[49m\u001b[43m \u001b[49m\u001b[43mdist_method\u001b[49m\u001b[38;5;241;43m=\u001b[39;49m\u001b[38;5;124;43m'\u001b[39;49m\u001b[38;5;124;43meuclidean\u001b[39;49m\u001b[38;5;124;43m'\u001b[39;49m\u001b[43m)\u001b[49m\n",
      "File \u001b[0;32m~/Coronary_Heart_Disease_Detection/KSOM/newSom.py:128\u001b[0m, in \u001b[0;36mNewSOM.fit\u001b[0;34m(self, input_arr, n_iter, batch_size, lr, random_sampling, neighbor_dist, dist_method)\u001b[0m\n\u001b[1;32m    125\u001b[0m         bm_node_idx_arr[step] \u001b[38;5;241m=\u001b[39m [y, x, input_idx]\n\u001b[1;32m    126\u001b[0m         total_dist \u001b[38;5;241m+\u001b[39m\u001b[38;5;241m=\u001b[39m dist\n\u001b[0;32m--> 128\u001b[0m     \u001b[38;5;28;43mself\u001b[39;49m\u001b[38;5;241;43m.\u001b[39;49m\u001b[43mupdate_node_vectors\u001b[49m\u001b[43m(\u001b[49m\u001b[43mbm_node_idx_arr\u001b[49m\u001b[43m)\u001b[49m\n\u001b[1;32m    129\u001b[0m \u001b[38;5;28mprint\u001b[39m(\u001b[38;5;124mf\u001b[39m\u001b[38;5;124m'\u001b[39m\u001b[38;5;124m Average distance = \u001b[39m\u001b[38;5;132;01m{\u001b[39;00mtotal_dist\u001b[38;5;250m \u001b[39m\u001b[38;5;241m/\u001b[39m\u001b[38;5;250m \u001b[39mn_data_pts\u001b[38;5;132;01m:\u001b[39;00m\u001b[38;5;124m0.5f\u001b[39m\u001b[38;5;132;01m}\u001b[39;00m\u001b[38;5;124m'\u001b[39m)\n\u001b[1;32m    130\u001b[0m \u001b[38;5;28mself\u001b[39m\u001b[38;5;241m.\u001b[39mlr \u001b[38;5;241m*\u001b[39m\u001b[38;5;241m=\u001b[39m \u001b[38;5;28mself\u001b[39m\u001b[38;5;241m.\u001b[39mlr_decay\n",
      "File \u001b[0;32m~/Coronary_Heart_Disease_Detection/KSOM/newSom.py:154\u001b[0m, in \u001b[0;36mNewSOM.update_node_vectors\u001b[0;34m(self, bm_node_idx_arr)\u001b[0m\n\u001b[1;32m    151\u001b[0m input_vect_expanded \u001b[38;5;241m=\u001b[39m np\u001b[38;5;241m.\u001b[39mtile(input_vect, (size, size, \u001b[38;5;241m1\u001b[39m))\n\u001b[1;32m    153\u001b[0m \u001b[38;5;66;03m# Apply the neighborhood weights and learning rate\u001b[39;00m\n\u001b[0;32m--> 154\u001b[0m weight_adjusted \u001b[38;5;241m=\u001b[39m np\u001b[38;5;241m.\u001b[39mexpand_dims(\u001b[38;5;28mself\u001b[39m\u001b[38;5;241m.\u001b[39mnb_weights, axis\u001b[38;5;241m=\u001b[39m\u001b[38;5;241m-\u001b[39m\u001b[38;5;241m1\u001b[39m) \u001b[38;5;241m*\u001b[39m \u001b[38;5;28mself\u001b[39m\u001b[38;5;241m.\u001b[39mlr \u001b[38;5;241m*\u001b[39m (\u001b[43minput_vect_expanded\u001b[49m\u001b[43m \u001b[49m\u001b[38;5;241;43m-\u001b[39;49m\u001b[43m \u001b[49m\u001b[43msubarray\u001b[49m)\n\u001b[1;32m    156\u001b[0m \u001b[38;5;66;03m# Update the node vectors\u001b[39;00m\n\u001b[1;32m    157\u001b[0m \u001b[38;5;28mself\u001b[39m\u001b[38;5;241m.\u001b[39mnode_vectors[node_y:node_y\u001b[38;5;241m+\u001b[39msize, node_x:node_x\u001b[38;5;241m+\u001b[39msize] \u001b[38;5;241m+\u001b[39m\u001b[38;5;241m=\u001b[39m weight_adjusted\n",
      "\u001b[0;31mValueError\u001b[0m: operands could not be broadcast together with shapes (21,42,3) (21,21,3) "
     ]
    }
   ],
   "source": [
    "som.fit(dataset, random_sampling=0.5, n_iter=20, dist_method='euclidean')"
   ]
  },
  {
   "cell_type": "code",
   "execution_count": 2,
   "id": "33611c14-32e8-4d8e-a9f4-1bfddb8e01cf",
   "metadata": {},
   "outputs": [
    {
     "ename": "ModuleNotFoundError",
     "evalue": "No module named 'sklearn'",
     "output_type": "error",
     "traceback": [
      "\u001b[0;31m---------------------------------------------------------------------------\u001b[0m",
      "\u001b[0;31mModuleNotFoundError\u001b[0m                       Traceback (most recent call last)",
      "Cell \u001b[0;32mIn[2], line 2\u001b[0m\n\u001b[1;32m      1\u001b[0m \u001b[38;5;28;01mimport\u001b[39;00m \u001b[38;5;21;01mnumpy\u001b[39;00m \u001b[38;5;28;01mas\u001b[39;00m \u001b[38;5;21;01mnp\u001b[39;00m\n\u001b[0;32m----> 2\u001b[0m \u001b[38;5;28;01mfrom\u001b[39;00m \u001b[38;5;21;01msklearn\u001b[39;00m\u001b[38;5;21;01m.\u001b[39;00m\u001b[38;5;21;01mpreprocessing\u001b[39;00m \u001b[38;5;28;01mimport\u001b[39;00m MinMaxScaler\n\u001b[1;32m      4\u001b[0m \u001b[38;5;66;03m# Define the shape and create random dataset\u001b[39;00m\n\u001b[1;32m      5\u001b[0m shape \u001b[38;5;241m=\u001b[39m (\u001b[38;5;241m2\u001b[39m, \u001b[38;5;241m3\u001b[39m)\n",
      "\u001b[0;31mModuleNotFoundError\u001b[0m: No module named 'sklearn'"
     ]
    }
   ],
   "source": [
    "import numpy as np\n",
    "from sklearn.preprocessing import MinMaxScaler\n",
    "\n",
    "# Define the shape and create random dataset\n",
    "shape = (2, 3)\n",
    "random_arrays = np.array([np.random.randint(1, 10, size=shape) for _ in range(500)])\n",
    "dataset = random_arrays.reshape(500, -1)  # Flatten each (2, 3) array to (6,)\n",
    "\n",
    "# Normalize the dataset\n",
    "scaler = MinMaxScaler()\n",
    "dataset = scaler.fit_transform(dataset)\n",
    "\n",
    "# Initialize and create the SOM with smaller learning rate\n",
    "som = NewSOM()\n",
    "som.create(width=13, height=13)\n",
    "\n",
    "# Fit the SOM with a smaller learning rate and neighborhood decay\n",
    "som.fit(dataset, random_sampling=0.5, n_iter=20, lr=0.1, dist_method='euclidean')"
   ]
  },
  {
   "cell_type": "code",
   "execution_count": 48,
   "id": "cdff0ff9",
   "metadata": {},
   "outputs": [],
   "source": [
    "rgb_numpy_array = np.array([[40, 198, 112]], dtype=np.float32)"
   ]
  },
  {
   "cell_type": "code",
   "execution_count": 49,
   "id": "d760bc5c",
   "metadata": {},
   "outputs": [
    {
     "name": "stdout",
     "output_type": "stream",
     "text": [
      "Done\n"
     ]
    }
   ],
   "source": [
    "data_locations, vect_distances = som.find_maching_nodes(rgb_numpy_array)"
   ]
  },
  {
   "cell_type": "code",
   "execution_count": 50,
   "id": "50ad3bc8",
   "metadata": {},
   "outputs": [
    {
     "data": {
      "text/plain": [
       "<matplotlib.image.AxesImage at 0x7f095b2eee30>"
      ]
     },
     "execution_count": 50,
     "metadata": {},
     "output_type": "execute_result"
    },
    {
     "data": {
      "image/png": "[encoded data removed]",
      "text/plain": [
       "<Figure size 432x288 with 1 Axes>"
      ]
     },
     "metadata": {
      "needs_background": "light"
     },
     "output_type": "display_data"
    }
   ],
   "source": [
    "umatrix = som.get_umatrix()\n",
    "plt.imshow(umatrix, cmap='gray')"
   ]
  },
  {
   "cell_type": "code",
   "execution_count": 51,
   "id": "278a0cd9",
   "metadata": {},
   "outputs": [
    {
     "data": {
      "text/plain": [
       "1"
      ]
     },
     "execution_count": 51,
     "metadata": {},
     "output_type": "execute_result"
    }
   ],
   "source": [
    "rgb_numpy_array.shape[0]"
   ]
  },
  {
   "cell_type": "code",
   "execution_count": 52,
   "id": "647d7bee",
   "metadata": {},
   "outputs": [
    {
     "data": {
      "image/png": "[encoded data removed]",
      "text/plain": [
       "<Figure size 650x650 with 1 Axes>"
      ]
     },
     "metadata": {
      "needs_background": "light"
     },
     "output_type": "display_data"
    },
    {
     "name": "stdout",
     "output_type": "stream",
     "text": [
      "Image saved to SOM_mapping_1725969451.png\n"
     ]
    }
   ],
   "source": [
    "colors = rgb_numpy_array.copy()\n",
    "colors -= np.min(colors)\n",
    "colors /= np.max(colors)\n",
    "\n",
    "plot_data_on_map(umatrix, data_locations, data_colors=colors, \n",
    "                 node_width=50, data_marker_size=100)     "
   ]
  },
  {
   "cell_type": "code",
   "execution_count": 31,
   "id": "749a2580",
   "metadata": {},
   "outputs": [
    {
     "data": {
      "text/plain": [
       "13"
      ]
     },
     "execution_count": 31,
     "metadata": {},
     "output_type": "execute_result"
    }
   ],
   "source": [
    "len(umatrix)"
   ]
  },
  {
   "cell_type": "code",
   "execution_count": 35,
   "id": "1777ec3d",
   "metadata": {},
   "outputs": [
    {
     "data": {
      "text/plain": [
       "array([0.2543423, 0.       , 1.       ], dtype=float32)"
      ]
     },
     "execution_count": 35,
     "metadata": {},
     "output_type": "execute_result"
    }
   ],
   "source": [
    "colors = rgb_numpy_array.copy()\n",
    "colors -= np.min(colors)\n",
    "colors /= np.max(colors)\n",
    "colors"
   ]
  },
  {
   "cell_type": "code",
   "execution_count": 36,
   "id": "def0fbe6",
   "metadata": {},
   "outputs": [
    {
     "data": {
      "text/plain": [
       "3"
      ]
     },
     "execution_count": 36,
     "metadata": {},
     "output_type": "execute_result"
    }
   ],
   "source": [
    " data_locations.shape[0]"
   ]
  },
  {
   "cell_type": "code",
   "execution_count": 37,
   "id": "6fbda28e",
   "metadata": {},
   "outputs": [
    {
     "data": {
      "text/plain": [
       "0.2543423"
      ]
     },
     "execution_count": 37,
     "metadata": {},
     "output_type": "execute_result"
    }
   ],
   "source": [
    "colors[0]"
   ]
  },
  {
   "cell_type": "code",
   "execution_count": null,
   "id": "f8228785",
   "metadata": {},
   "outputs": [],
   "source": []
  }
 ],
 "metadata": {
  "kernelspec": {
   "display_name": "Python 3 (ipykernel)",
   "language": "python",
   "name": "python3"
  },
  "language_info": {
   "codemirror_mode": {
    "name": "ipython",
    "version": 3
   },
   "file_extension": ".py",
   "mimetype": "text/x-python",
   "name": "python",
   "nbconvert_exporter": "python",
   "pygments_lexer": "ipython3",
   "version": "3.12.7"
  }
 },
 "nbformat": 4,
 "nbformat_minor": 5
}
