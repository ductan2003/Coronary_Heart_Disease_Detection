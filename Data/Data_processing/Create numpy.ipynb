{
 "cells": [
  {
   "cell_type": "code",
   "execution_count": 12,
   "id": "3e8849f3-b2bd-434d-95a9-c64511adf713",
   "metadata": {},
   "outputs": [],
   "source": [
    "import matplotlib.pyplot as plt\n",
    "import pandas as pd\n",
    "import numpy as np\n",
    "import os"
   ]
  },
  {
   "cell_type": "code",
   "execution_count": 13,
   "id": "d78544ef-c26f-4a7a-ab6c-758eb50f0e47",
   "metadata": {},
   "outputs": [],
   "source": [
    "dataset_path = \"/Users/tannguyen/Thesis/ecg-source/data/\"\n",
    "numpy_output_path = \"/Users/tannguyen/Thesis/ecg-source/data/numpy_data/\"\n",
    "\n",
    "os.makedirs(numpy_output_path, exist_ok=True)"
   ]
  },
  {
   "cell_type": "code",
   "execution_count": 14,
   "id": "1e7c1020-3bb8-499d-9503-7f7cc974a326",
   "metadata": {},
   "outputs": [],
   "source": [
    "def create_matrix(x_axis, y_axis, filename):\n",
    "    # Example x and y values (replace with actual values)\n",
    "    x_values = np.array(x_axis)  # replace with actual x-values\n",
    "    y_values = np.array(y_axis)  # replace with actual y-values\n",
    "\n",
    "    # CHANGE INPUT MATRIX SIZE HERE\n",
    "    grid_size = 30\n",
    "    # THIS SHOULD NOT BE CHANGE :( BECAUSE I HAVE TEST THE RANGE FOR ECG\n",
    "    x_min, x_max = 400, 1400\n",
    "    y_min, y_max = 400, 1400\n",
    "    \n",
    "    # Initialize the feature matrix (28x28 grid)\n",
    "    feature_matrix = np.zeros((grid_size, grid_size), dtype=float)\n",
    "    \n",
    "    # Calculate the size of each cell in the grid\n",
    "    x_step = (x_max - x_min) / grid_size\n",
    "    y_step = (y_max - y_min) / grid_size\n",
    "    \n",
    "    # Populate the feature matrix based on x and y values\n",
    "    for x, y in zip(x_values, y_values):\n",
    "        if x_min <= x < x_max and y_min <= y < y_max:\n",
    "            # Determine the cell index for x and y\n",
    "            x_idx = int((x - x_min) / x_step)\n",
    "            y_idx = int((y - y_min) / y_step)\n",
    "            \n",
    "            # Mark the cell as occupied\n",
    "            feature_matrix[y_idx, x_idx] = 1\n",
    "\n",
    "        # New row to insert (make sure it has the same number of columns)\n",
    "    new_row = np.zeros((1, grid_size), dtype=float)\n",
    "    \n",
    "    # Step 3: Update the first value of the new row\n",
    "    if \"Resting\" in filename:\n",
    "        new_value = 0.1\n",
    "    elif \"Working\" in filename:\n",
    "        new_value = 0.5\n",
    "    new_row[0, 0] = new_value  # Update the first value\n",
    "    # Append the new row\n",
    "    updated_array = np.append(feature_matrix, new_row, axis=0)\n",
    "    return updated_array"
   ]
  },
  {
   "cell_type": "code",
   "execution_count": 15,
   "id": "7c670731-2c4a-49dd-b328-7fdb85aea381",
   "metadata": {},
   "outputs": [
    {
     "name": "stdout",
     "output_type": "stream",
     "text": [
      "Found CSV file: 2024-11-02T10:35:21.656Z_1_Resting-Abnormal.csv\n"
     ]
    }
   ],
   "source": [
    "for filename in os.listdir(dataset_path):\n",
    "    # Check if the file is a CSV file\n",
    "    if filename.endswith('.csv'):\n",
    "        print(f'Found CSV file: {filename}')\n",
    "        file_path = os.path.join(dataset_path, filename)\n",
    "        \n",
    "        # Read the CSV file into a DataFrame\n",
    "        ecg_data = pd.read_csv(file_path)\n",
    "        ecg_data = ecg_data[ecg_data[\"Time\"] <= 120]\n",
    "        r_peaks = ecg_data[ecg_data['Peak'] == 3]\n",
    "        rr_intervals = r_peaks['Time'].diff().dropna().reset_index(drop=True)\n",
    "        rr_intervals_ms = rr_intervals * 1000  # Convert seconds to ms\n",
    "        rr_n_ms = rr_intervals_ms[:-1]         # n-th RR intervals in ms or x-axis\n",
    "        rr_n1_ms = rr_intervals_ms[1:]         # (n+1)-th RR intervals in ms or y-axis\n",
    "\n",
    "        input_data = create_matrix(rr_n_ms, rr_n1_ms, filename)\n",
    "        np.save(numpy_output_path + filename.replace(\".csv\", \".npy\"), input_data)"
   ]
  },
  {
   "cell_type": "code",
   "execution_count": 16,
   "id": "eb805642-9076-40a5-9da7-0897a5f6bd19",
   "metadata": {},
   "outputs": [
    {
     "name": "stdout",
     "output_type": "stream",
     "text": [
      "[[0.  0.  0.  0.  0.  0.  0.  0.  0.  0.  0.  0.  0.  0.  0.  0.  0.  0.\n",
      "  0.  0.  0.  0.  0.  0.  0.  0.  0.  0.  0.  0. ]\n",
      " [0.  0.  0.  0.  0.  0.  0.  0.  0.  0.  0.  0.  0.  0.  0.  0.  0.  0.\n",
      "  0.  0.  0.  0.  0.  0.  0.  0.  0.  0.  0.  0. ]\n",
      " [0.  0.  0.  0.  0.  0.  0.  0.  0.  0.  0.  0.  0.  0.  0.  0.  0.  0.\n",
      "  0.  0.  0.  0.  0.  0.  0.  0.  0.  0.  0.  0. ]\n",
      " [0.  0.  0.  0.  0.  0.  0.  0.  0.  0.  0.  0.  0.  0.  0.  0.  0.  0.\n",
      "  0.  0.  0.  0.  0.  0.  0.  0.  0.  0.  0.  0. ]\n",
      " [0.  0.  0.  0.  0.  0.  0.  0.  0.  0.  0.  0.  0.  0.  0.  0.  0.  0.\n",
      "  0.  0.  0.  0.  0.  0.  0.  0.  0.  0.  0.  0. ]\n",
      " [0.  0.  0.  0.  0.  0.  0.  0.  0.  0.  0.  0.  0.  0.  0.  0.  0.  0.\n",
      "  0.  0.  0.  0.  0.  0.  0.  0.  0.  0.  0.  0. ]\n",
      " [0.  0.  0.  0.  0.  0.  0.  0.  0.  0.  0.  0.  0.  0.  0.  0.  0.  0.\n",
      "  0.  0.  0.  0.  0.  0.  0.  0.  0.  0.  0.  0. ]\n",
      " [0.  0.  0.  0.  0.  0.  0.  0.  0.  0.  0.  0.  0.  0.  0.  0.  0.  0.\n",
      "  0.  0.  0.  0.  0.  0.  0.  0.  0.  0.  0.  0. ]\n",
      " [0.  0.  0.  0.  0.  0.  0.  0.  0.  0.  0.  0.  0.  0.  0.  0.  0.  0.\n",
      "  0.  0.  0.  0.  0.  0.  0.  0.  0.  0.  0.  0. ]\n",
      " [0.  0.  0.  0.  0.  0.  0.  0.  0.  0.  0.  0.  0.  0.  0.  0.  0.  0.\n",
      "  0.  0.  0.  0.  0.  0.  0.  0.  0.  0.  0.  0. ]\n",
      " [0.  0.  0.  0.  0.  0.  0.  0.  0.  0.  0.  0.  0.  0.  0.  0.  0.  0.\n",
      "  0.  0.  0.  0.  0.  0.  0.  0.  0.  0.  0.  0. ]\n",
      " [0.  0.  0.  0.  0.  0.  0.  0.  0.  0.  0.  0.  0.  0.  0.  0.  0.  0.\n",
      "  0.  0.  0.  0.  0.  0.  0.  0.  0.  0.  0.  0. ]\n",
      " [0.  0.  0.  0.  0.  0.  0.  0.  0.  0.  0.  0.  0.  0.  0.  0.  0.  0.\n",
      "  0.  0.  0.  0.  0.  0.  0.  0.  0.  0.  0.  0. ]\n",
      " [0.  0.  0.  0.  0.  0.  0.  0.  0.  0.  0.  0.  0.  0.  0.  0.  0.  0.\n",
      "  0.  0.  0.  0.  0.  0.  0.  0.  0.  0.  0.  0. ]\n",
      " [0.  0.  0.  0.  0.  0.  0.  0.  0.  0.  0.  0.  0.  0.  0.  0.  0.  0.\n",
      "  0.  0.  0.  0.  0.  0.  0.  0.  0.  0.  0.  0. ]\n",
      " [0.  0.  0.  0.  0.  0.  0.  0.  0.  0.  0.  0.  0.  0.  0.  0.  0.  0.\n",
      "  0.  0.  0.  0.  0.  0.  0.  0.  0.  0.  0.  0. ]\n",
      " [0.  0.  0.  0.  0.  0.  0.  0.  0.  0.  0.  0.  0.  0.  0.  0.  0.  1.\n",
      "  1.  0.  0.  0.  0.  0.  0.  0.  0.  0.  0.  0. ]\n",
      " [0.  0.  0.  0.  0.  0.  0.  0.  0.  0.  0.  0.  0.  0.  0.  0.  1.  1.\n",
      "  1.  0.  0.  0.  0.  0.  0.  0.  0.  0.  0.  0. ]\n",
      " [0.  0.  0.  0.  0.  0.  0.  0.  0.  0.  0.  0.  0.  0.  0.  0.  0.  1.\n",
      "  1.  1.  0.  0.  0.  0.  0.  0.  0.  0.  0.  0. ]\n",
      " [0.  0.  0.  0.  0.  0.  0.  0.  0.  0.  0.  0.  0.  0.  0.  0.  0.  0.\n",
      "  1.  0.  0.  0.  0.  0.  0.  0.  0.  0.  0.  0. ]\n",
      " [0.  0.  0.  0.  0.  0.  0.  0.  0.  0.  0.  0.  0.  0.  0.  0.  0.  0.\n",
      "  0.  0.  0.  0.  0.  0.  0.  0.  0.  0.  0.  0. ]\n",
      " [0.  0.  0.  0.  0.  0.  0.  0.  0.  0.  0.  0.  0.  0.  0.  0.  0.  0.\n",
      "  0.  0.  0.  0.  0.  0.  0.  0.  0.  0.  0.  0. ]\n",
      " [0.  0.  0.  0.  0.  0.  0.  0.  0.  0.  0.  0.  0.  0.  0.  0.  0.  0.\n",
      "  0.  0.  0.  0.  0.  0.  0.  0.  0.  0.  0.  0. ]\n",
      " [0.  0.  0.  0.  0.  0.  0.  0.  0.  0.  0.  0.  0.  0.  0.  0.  0.  0.\n",
      "  0.  0.  0.  0.  0.  0.  0.  0.  0.  0.  0.  0. ]\n",
      " [0.  0.  0.  0.  0.  0.  0.  0.  0.  0.  0.  0.  0.  0.  0.  0.  0.  0.\n",
      "  0.  0.  0.  0.  0.  0.  0.  0.  0.  0.  0.  0. ]\n",
      " [0.  0.  0.  0.  0.  0.  0.  0.  0.  0.  0.  0.  0.  0.  0.  0.  0.  0.\n",
      "  0.  0.  0.  0.  0.  0.  0.  0.  0.  0.  0.  0. ]\n",
      " [0.  0.  0.  0.  0.  0.  0.  0.  0.  0.  0.  0.  0.  0.  0.  0.  0.  0.\n",
      "  0.  0.  0.  0.  0.  0.  0.  0.  0.  0.  0.  0. ]\n",
      " [0.  0.  0.  0.  0.  0.  0.  0.  0.  0.  0.  0.  0.  0.  0.  0.  0.  0.\n",
      "  0.  0.  0.  0.  0.  0.  0.  0.  0.  0.  0.  0. ]\n",
      " [0.  0.  0.  0.  0.  0.  0.  0.  0.  0.  0.  0.  0.  0.  0.  0.  0.  0.\n",
      "  0.  0.  0.  0.  0.  0.  0.  0.  0.  0.  0.  0. ]\n",
      " [0.  0.  0.  0.  0.  0.  0.  0.  0.  0.  0.  0.  0.  0.  0.  0.  0.  0.\n",
      "  0.  0.  0.  0.  0.  0.  0.  0.  0.  0.  0.  0. ]\n",
      " [0.1 0.  0.  0.  0.  0.  0.  0.  0.  0.  0.  0.  0.  0.  0.  0.  0.  0.\n",
      "  0.  0.  0.  0.  0.  0.  0.  0.  0.  0.  0.  0. ]]\n"
     ]
    }
   ],
   "source": [
    "data = np.load('/Users/tannguyen/Thesis/ecg-source/data/numpy_data/2024-11-02T10:35:21.656Z_1_Resting-Abnormal.npy')\n",
    "\n",
    "# Display the data\n",
    "print(data)"
   ]
  },
  {
   "cell_type": "code",
   "execution_count": null,
   "id": "6910e2bc-ef3b-432b-a7e0-ba323ba0ce68",
   "metadata": {},
   "outputs": [],
   "source": []
  }
 ],
 "metadata": {
  "kernelspec": {
   "display_name": "Python 3 (ipykernel)",
   "language": "python",
   "name": "python3"
  },
  "language_info": {
   "codemirror_mode": {
    "name": "ipython",
    "version": 3
   },
   "file_extension": ".py",
   "mimetype": "text/x-python",
   "name": "python",
   "nbconvert_exporter": "python",
   "pygments_lexer": "ipython3",
   "version": "3.12.7"
  }
 },
 "nbformat": 4,
 "nbformat_minor": 5
}
